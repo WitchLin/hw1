{
 "cells": [
  {
   "cell_type": "code",
   "execution_count": 7,
   "metadata": {
    "collapsed": true
   },
   "outputs": [],
   "source": [
    "import urllib.request\n",
    "from lxml import objectify, etree\n",
    "\n"
   ]
  },
  {
   "cell_type": "code",
   "execution_count": 83,
   "metadata": {
    "collapsed": false
   },
   "outputs": [],
   "source": [
    "def functionOne(year):\n",
    "    xml = urllib.request.urlopen('http://data.treasury.gov/feed.svc/DailyTreasuryYieldCurveRateData?$filter=year(NEW_DATE)%20eq%20'+year).read()\n",
    "    tree = etree.fromstring(xml)\n",
    "    tree.xpath(\"//*\")\n",
    "    date =tree.findall(\".//{http://schemas.microsoft.com/ado/2007/08/dataservices}NEW_DATE\")\n",
    "    Month1= tree.findall(\".//{http://schemas.microsoft.com/ado/2007/08/dataservices}BC_1MONTH\")\n",
    "    Month3= tree.findall(\".//{http://schemas.microsoft.com/ado/2007/08/dataservices}BC_3MONTH\")\n",
    "    Month6= tree.findall(\".//{http://schemas.microsoft.com/ado/2007/08/dataservices}BC_6MONTH\")\n",
    "    Year1= tree.findall(\".//{http://schemas.microsoft.com/ado/2007/08/dataservices}BC_1YEAR\")\n",
    "    Year2= tree.findall(\".//{http://schemas.microsoft.com/ado/2007/08/dataservices}BC_2YEAR\")\n",
    "    Year3= tree.findall(\".//{http://schemas.microsoft.com/ado/2007/08/dataservices}BC_3YEAR\")\n",
    "    Year5= tree.findall(\".//{http://schemas.microsoft.com/ado/2007/08/dataservices}BC_5YEAR\")\n",
    "    Year7= tree.findall(\".//{http://schemas.microsoft.com/ado/2007/08/dataservices}BC_7YEAR\")\n",
    "    Year10= tree.findall(\".//{http://schemas.microsoft.com/ado/2007/08/dataservices}BC_10YEAR\")\n",
    "    Year20= tree.findall(\".//{http://schemas.microsoft.com/ado/2007/08/dataservices}BC_20YEAR\")\n",
    "    Year30= tree.findall(\".//{http://schemas.microsoft.com/ado/2007/08/dataservices}BC_30YEAR\")\n",
    "    return list(zip(date, Month1,Month3,Month6,Year1,Year2,Year3,Year5,Year7,Year10,Year20,Year30))\n",
    "      "
   ]
  },
  {
   "cell_type": "code",
   "execution_count": 99,
   "metadata": {
    "collapsed": false
   },
   "outputs": [],
   "source": [
    "csv = open(\"test1.csv\", \"w\") \n",
    "\n",
    "for i in list(range(2010,2017)):\n",
    "    l=functionOne(str(i))\n",
    "    for item in l:\n",
    "        for i in item:\n",
    "            row=\"\"\n",
    "            for j in i:\n",
    "                row = row + \",\" + j.text\n",
    "            row=row[1:]+\"\\n\"\n",
    "            csv.write(row)\n"
   ]
  },
  {
   "cell_type": "code",
   "execution_count": null,
   "metadata": {
    "collapsed": true
   },
   "outputs": [],
   "source": []
  }
 ],
 "metadata": {
  "anaconda-cloud": {},
  "kernelspec": {
   "display_name": "Python [conda env:Anaconda3]",
   "language": "python",
   "name": "conda-env-Anaconda3-py"
  },
  "language_info": {
   "codemirror_mode": {
    "name": "ipython",
    "version": 3
   },
   "file_extension": ".py",
   "mimetype": "text/x-python",
   "name": "python",
   "nbconvert_exporter": "python",
   "pygments_lexer": "ipython3",
   "version": "3.5.6"
  }
 },
 "nbformat": 4,
 "nbformat_minor": 1
}
